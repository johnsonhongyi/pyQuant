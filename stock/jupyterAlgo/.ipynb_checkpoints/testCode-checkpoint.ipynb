{
 "cells": [
  {
   "cell_type": "code",
   "execution_count": 1,
   "metadata": {
    "ExecuteTime": {
     "end_time": "2017-09-13T17:58:13.470575Z",
     "start_time": "2017-09-13T17:58:12.838044Z"
    }
   },
   "outputs": [],
   "source": [
    "import sys\n",
    "sys.path.append('../')\n",
    "import JSONData.tdx_data_Day as tdd\n",
    "from  JSONData import sina_data \n",
    "import pandas as pd\n",
    "# tdd.get_tdx_Exp_day_to_df('999999',dl=5)"
   ]
  },
  {
   "cell_type": "code",
   "execution_count": 4,
   "metadata": {
    "ExecuteTime": {
     "end_time": "2017-09-13T18:02:10.182873Z",
     "start_time": "2017-09-13T18:02:09.720549Z"
    },
    "scrolled": true
   },
   "outputs": [
    {
     "ename": "AttributeError",
     "evalue": "'MultiIndex' object has no attribute 'index'",
     "output_type": "error",
     "traceback": [
      "\u001b[0;31m---------------------------------------------------------------------------\u001b[0m",
      "\u001b[0;31mAttributeError\u001b[0m                            Traceback (most recent call last)",
      "\u001b[0;32m<ipython-input-4-4285e01d0f01>\u001b[0m in \u001b[0;36m<module>\u001b[0;34m()\u001b[0m\n\u001b[1;32m     16\u001b[0m \u001b[0;31m# len(df.index.get_level_values('code').unique())\u001b[0m\u001b[0;34m\u001b[0m\u001b[0;34m\u001b[0m\u001b[0m\n\u001b[1;32m     17\u001b[0m \u001b[0mdf\u001b[0m\u001b[0;34m=\u001b[0m\u001b[0mdf\u001b[0m\u001b[0;34m.\u001b[0m\u001b[0mindex\u001b[0m\u001b[0;34m.\u001b[0m\u001b[0mdrop_duplicates\u001b[0m\u001b[0;34m(\u001b[0m\u001b[0;34m)\u001b[0m\u001b[0;34m\u001b[0m\u001b[0m\n\u001b[0;32m---> 18\u001b[0;31m \u001b[0;32mprint\u001b[0m \u001b[0mlen\u001b[0m\u001b[0;34m(\u001b[0m\u001b[0mdf\u001b[0m\u001b[0;34m.\u001b[0m\u001b[0mindex\u001b[0m\u001b[0;34m.\u001b[0m\u001b[0mget_level_values\u001b[0m\u001b[0;34m(\u001b[0m\u001b[0;34m'code'\u001b[0m\u001b[0;34m)\u001b[0m\u001b[0;34m.\u001b[0m\u001b[0munique\u001b[0m\u001b[0;34m(\u001b[0m\u001b[0;34m)\u001b[0m\u001b[0;34m)\u001b[0m\u001b[0;34m\u001b[0m\u001b[0m\n\u001b[0m",
      "\u001b[0;31mAttributeError\u001b[0m: 'MultiIndex' object has no attribute 'index'"
     ]
    }
   ],
   "source": [
    "import time,random\n",
    "# start='20110226'\n",
    "start = None\n",
    "time_s = time.time()\n",
    "# code_list = ['399006','000001','999999']\n",
    "code_list = sina_data.Sina().market('cyb').index.tolist()\n",
    "print len(code_list)\n",
    "\n",
    "# df = tdd.search_Tdx_multi_data_duration('tdx_all_df_300', 'all_300', df=None,code_l=code_list, start=start, end=None, freq=None, col=None, index='date')\n",
    "df = tdd.search_Tdx_multi_data_duration('tdx_all_df_300', 'all_300', df=None,code_l=code_list, start='20150501', end=None, freq=None, col=None, index='date')\n",
    "# print len(df.loc['600816'])\n",
    "code_uniquelist=df.index.get_level_values('code').unique()\n",
    "code_select = code_uniquelist[random.randint(0,len(code_uniquelist)-1)]\n",
    "round(time.time()-time_s,2),df.index.get_level_values('code').unique().shape,code_select,df.loc[code_select][:2]\n",
    "# df.groupby(level=[0]),df.index.get_level_values(0)\n",
    "# len(df.index.get_level_values('code').unique())\n",
    "df.index.drop_duplicates()\n",
    "print len(df.index.get_level_values('code').unique())"
   ]
  },
  {
   "cell_type": "markdown",
   "metadata": {},
   "source": [
    "# tdd.get_tdx_Exp_day_to_df('399006', dl=30, newdays=0, resample='d')[:2]\n",
    "# tdd.get_tdx_append_now_df_api('399006', dl=30, newdays=0)[['ma5d','ma10d','ma20d']][:3]\n",
    "dd =tdd.get_tdx_append_now_df_api('600150', dl=300).sort_index(ascending=True)\n",
    "dd['ma120d'] = pd.rolling_mean(dd.close, 250)\n",
    "dd.shape,dd['ma120d'][-3:]\n",
    "# dd.close"
   ]
  },
  {
   "cell_type": "code",
   "execution_count": 3,
   "metadata": {
    "ExecuteTime": {
     "end_time": "2017-09-13T17:56:54.554015Z",
     "start_time": "2017-09-13T17:56:46.205884Z"
    }
   },
   "outputs": [
    {
     "data": {
      "text/plain": [
       "(10.04,\n",
       " (1001,),\n",
       " '000518',\n",
       "             open  high   low  close      vol    amount    ma5   ma10  \\\n",
       " date                                                                   \n",
       " 2017-03-08  8.21  8.23  8.15   8.17  2679513  21883524  8.166  8.199   \n",
       " 2017-03-09  8.17  8.17  8.06   8.09  4376598  35438288  8.154  8.186   \n",
       " \n",
       "                 ma60   ma100     ma120    ma200  \n",
       " date                                             \n",
       " 2017-03-08  8.296667  8.3064  8.094583  7.59290  \n",
       " 2017-03-09  8.294500  8.2998  8.106667  7.59585  )"
      ]
     },
     "execution_count": 3,
     "metadata": {},
     "output_type": "execute_result"
    }
   ],
   "source": [
    "\n",
    "# df['ma250d'] = pd.rolling_mean(df.close, 250)\n",
    "# df.groupby(level=[0]).agg({'close':'rolling_mean'})\n",
    "# df.sort_index(ascending=False,inplace=True)\n",
    "dfs = df\n",
    "groupd = dfs.groupby(level=[0])\n",
    "for da in ['5','10','60','100','120','200']:\n",
    "# for da in ['250']:\n",
    "    cumdays=int(da)\n",
    "    dfs['ma%d'%cumdays] = groupd['close'].apply(pd.rolling_mean, cumdays)\n",
    "# df.ix[df.index.levels[0]]\n",
    "#df.ix[df.index[len(df.index)-1][0]] #last row\n",
    "\n",
    "# groupd.agg({'low': 'min'})\n",
    "# '''idx mask filter'''\n",
    "# '''\n",
    "idx = pd.IndexSlice\n",
    "mask = dfs[('close')] > dfs[('ma200')]\n",
    "df=dfs.loc[idx[mask, :]]\n",
    "# df250=df\n",
    "# groupd.first()[:2],groupd.last()[:2]\n",
    "# groupd = df250.groupby(level=[0])\n",
    "# '''\n",
    "# groupd.transform(lambda x: x.iloc[-1])\n",
    "# groupd.last()\n",
    "# groupd.apply(lambda x: x.close > x.ma250)\n",
    "# df.shape,df.sort_index(ascending=False)[:5]\n",
    "# ?groupd.agg\n",
    "# groupd = df.groupby(level=[0])\n",
    "# groupd['close'].apply(pd.rolling_mean, 250, min_periods=1)\n",
    "#ex:# Group df by df.platoon, then apply a rolling mean lambda function to df.casualties\n",
    " # df.groupby('Platoon')['Casualties'].apply(lambda x:x.rolling(center=False,window=2).mean())\n",
    "# df[-2:]\n",
    "code_uniquelist=df.index.get_level_values('code').unique()\n",
    "code_select = code_uniquelist[random.randint(0,len(code_uniquelist)-1)]\n",
    "round(time.time()-time_s,2),df.index.get_level_values('code').unique().shape,code_select,df.loc[code_select][:2]"
   ]
  },
  {
   "cell_type": "code",
   "execution_count": null,
   "metadata": {
    "collapsed": true
   },
   "outputs": [],
   "source": []
  }
 ],
 "metadata": {
  "kernelspec": {
   "display_name": "Python 2",
   "language": "python",
   "name": "python2"
  },
  "language_info": {
   "codemirror_mode": {
    "name": "ipython",
    "version": 2
   },
   "file_extension": ".py",
   "mimetype": "text/x-python",
   "name": "python",
   "nbconvert_exporter": "python",
   "pygments_lexer": "ipython2",
   "version": "2.7.11"
  },
  "toc": {
   "colors": {
    "hover_highlight": "#DAA520",
    "navigate_num": "#000000",
    "navigate_text": "#333333",
    "running_highlight": "#FF0000",
    "selected_highlight": "#FFD700",
    "sidebar_border": "#EEEEEE",
    "wrapper_background": "#FFFFFF"
   },
   "moveMenuLeft": true,
   "nav_menu": {
    "height": "12px",
    "width": "252px"
   },
   "navigate_menu": true,
   "number_sections": true,
   "sideBar": false,
   "threshold": 4,
   "toc_cell": false,
   "toc_section_display": "block",
   "toc_window_display": false,
   "widenNotebook": false
  }
 },
 "nbformat": 4,
 "nbformat_minor": 2
}
