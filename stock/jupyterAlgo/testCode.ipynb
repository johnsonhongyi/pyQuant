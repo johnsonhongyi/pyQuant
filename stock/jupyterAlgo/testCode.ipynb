{
 "cells": [
  {
   "cell_type": "code",
   "execution_count": 1,
   "metadata": {
    "ExecuteTime": {
     "end_time": "2023-01-15T10:37:42.183000Z",
     "start_time": "2023-01-15T10:37:40.534000Z"
    },
    "collapsed": false,
    "execution": {
     "iopub.execute_input": "2023-01-16T16:26:07.117000+08:00",
     "iopub.status.busy": "2023-01-16T16:26:07.117000+08:00",
     "iopub.status.idle": "2023-01-16T16:26:08.860000+08:00",
     "shell.execute_reply": "2023-01-16T16:26:08.859000+08:00",
     "shell.execute_reply.started": "2023-01-16T16:26:07.117000"
    },
    "jupyter": {
     "outputs_hidden": false
    }
   },
   "outputs": [
    {
     "name": "stderr",
     "output_type": "stream",
     "text": [
      "ERROR:root:error:C:\\Users\\Johnson\\Anaconda2\\lib\\site-packages\\ipykernel cwd:D:\\MacTools\\WorkFile\\WorkSpace\\pyQuant\\tdx_all_df_300.h5\n",
      "[2023-01-16 16:26:08,065] ERROR:commonTips.py(get_run_path_tdx:126): error:C:\\Users\\Johnson\\Anaconda2\\lib\\site-packages\\ipykernel cwd:D:\\MacTools\\WorkFile\\WorkSpace\\pyQuant\\tdx_all_df_300.h5\n"
     ]
    },
    {
     "name": "stdout",
     "output_type": "stream",
     "text": [
      "              code     open     high      low    close        vol  \\\n",
      "date                                                                \n",
      "2023-01-16  999999  3198.52  3251.37  3197.32  3227.59  306749549   \n",
      "2023-01-13  999999  3170.35  3195.31  3167.51  3195.31  220226897   \n",
      "2023-01-12  999999  3167.27  3171.59  3153.40  3163.45  216671305   \n",
      "2023-01-11  999999  3172.38  3184.76  3160.89  3161.84  237742869   \n",
      "2023-01-10  999999  3178.02  3178.16  3165.14  3169.51  232984175   \n",
      "\n",
      "                  amount     ma5d  ma10d  ma20d    ...      top10     ma5dcum  \\\n",
      "date                                               ...                          \n",
      "2023-01-16  4.132196e+11  3183.54      0      0    ...          0  353.726667   \n",
      "2023-01-13  2.880625e+11     0.00      0      0    ...          0  353.726667   \n",
      "2023-01-12  2.753718e+11     0.00      0      0    ...          0  353.726667   \n",
      "2023-01-11  3.092489e+11     0.00      0      0    ...          0  353.726667   \n",
      "2023-01-10  3.103577e+11     0.00      0      0    ...          0  353.726667   \n",
      "\n",
      "            ra  hmax     max5    lmin    min5    cmean         hv         lv  \n",
      "date                                                                          \n",
      "2023-01-16   0     0  3195.31  3153.4  3153.4  3172.53  237742869  216671305  \n",
      "2023-01-13   0     0  3195.31  3153.4  3153.4  3172.53  237742869  216671305  \n",
      "2023-01-12   0     0  3195.31  3153.4  3153.4  3172.53  237742869  216671305  \n",
      "2023-01-11   0     0  3195.31  3153.4  3153.4  3172.53  237742869  216671305  \n",
      "2023-01-10   0     0  3195.31  3153.4  3153.4  3172.53  237742869  216671305  \n",
      "\n",
      "[5 rows x 79 columns]\n"
     ]
    },
    {
     "name": "stderr",
     "output_type": "stream",
     "text": [
      "ERROR:root:error:C:\\Users\\Johnson\\Anaconda2\\lib\\site-packages\\ipykernel cwd:D:\\MacTools\\WorkFile\\WorkSpace\\pyQuant\\tdx_all_df_300.h5\n",
      "[2023-01-16 16:26:20,865] ERROR:commonTips.py(get_run_path_tdx:126): error:C:\\Users\\Johnson\\Anaconda2\\lib\\site-packages\\ipykernel cwd:D:\\MacTools\\WorkFile\\WorkSpace\\pyQuant\\tdx_all_df_300.h5\n",
      "ERROR:root:col is None\n",
      "[2023-01-16 16:26:23,181] ERROR:commonTips.py(get_limit_multiIndex_Row:2541): col is None\n"
     ]
    }
   ],
   "source": [
    "# %%debug\n",
    "# import pdb\n",
    "# from pdb import set_trace as bp\n",
    "\n",
    "import logging\n",
    "import sys\n",
    "\n",
    "stdout=sys.stdout\n",
    "sys.path.append('../')\n",
    "import JSONData.tdx_data_Day as tdd\n",
    "import pandas as pd\n",
    "from JSONData import sina_data\n",
    "\n",
    "sys.stdout=stdout\n",
    "\n",
    "from IPython.core.interactiveshell import InteractiveShell\n",
    "\n",
    "InteractiveShell.ast_node_interactivity = \"all\"\n",
    "\n",
    "# def excepthook(type,value,traceback):\n",
    "#     logging.error(\"Unhandled exception occured\",exc_info=(type,value,traceback))\n",
    "#     #Don't need another copy of traceback on stderr\n",
    "#     if old_excepthook!=sys.__excepthook__:\n",
    "#         old_excepthook(type,value,traceback)\n",
    "# print 'new:',sys.excepthook\n",
    "# sys.excepthook = excepthook\n",
    "# print 'new:',sys.excepthook\n",
    "\n",
    "#Delete Jupyter notebook root logger handler\n",
    "# mylogger = logging.getLogger()\n",
    "# if len(mylogger.handlers) > 0:\n",
    "#     for ix in mylogger.handlers:\n",
    "#         print (\"handlers:%s std:%s\"%(ix.stream,sys.stdout))\n",
    "# else:\n",
    "#     print \"nb not handlers\"\n",
    "# #     mylogger.propagate = False\n",
    "# mylogger.setLevel(logging.ERROR)\n",
    "# print \"nb:\",sys.stderr\n",
    "\n",
    "df=tdd.get_tdx_Exp_day_to_df('999999',dl=5)\n",
    "print(df[~df.index.duplicated(keep='first')])"
   ]
  },
  {
   "cell_type": "code",
   "execution_count": 3,
   "metadata": {
    "ExecuteTime": {
     "end_time": "2023-01-15T10:37:42.238000Z",
     "start_time": "2023-01-15T10:37:42.236000Z"
    },
    "collapsed": false,
    "jupyter": {
     "outputs_hidden": false
    }
   },
   "outputs": [],
   "source": [
    "#%debug"
   ]
  },
  {
   "cell_type": "code",
   "execution_count": 2,
   "metadata": {
    "ExecuteTime": {
     "end_time": "2023-01-15T10:37:45.666000Z",
     "start_time": "2023-01-15T10:37:43.268000Z"
    },
    "collapsed": false,
    "execution": {
     "iopub.execute_input": "2023-01-16T16:26:19.701000+08:00",
     "iopub.status.busy": "2023-01-16T16:26:19.701000+08:00",
     "iopub.status.idle": "2023-01-16T16:26:23.183000+08:00",
     "shell.execute_reply": "2023-01-16T16:26:23.183000+08:00",
     "shell.execute_reply.started": "2023-01-16T16:26:19.701000"
    },
    "jupyter": {
     "outputs_hidden": false
    }
   },
   "outputs": [
    {
     "name": "stdout",
     "output_type": "stream",
     "text": [
      "all code: 4949\n"
     ]
    }
   ],
   "source": [
    "import time,random\n",
    "# start='20110226'\n",
    "start = None\n",
    "time_s = time.time()\n",
    "# code_list = ['399006','000001','999999']\n",
    "code_list=sina_data.Sina().market('all').index.tolist()\n",
    "print \"all code:\",len(code_list)\n",
    "\n",
    "# df = tdd.search_Tdx_multi_data_duration('tdx_all_df_300', 'all_300', df=None,code_l=code_list, start=start, \n",
    "# end=None, freq=None, col=None, index='date')\n",
    "\n",
    "df = tdd.search_Tdx_multi_data_duration('tdx_all_df_300')\n",
    "# df = tdd.search_Tdx_multi_data_duration('tdx_all_df_300', 'all_300', df=None,code_l=code_list, start='20150501',\n",
    "# end=None, freq=None, col=None, index='date')\n",
    "# print len(df.loc['600816'])"
   ]
  },
  {
   "cell_type": "code",
   "execution_count": 3,
   "metadata": {
    "ExecuteTime": {
     "end_time": "2023-01-15T10:37:57.153000Z",
     "start_time": "2023-01-15T10:37:54.080000Z"
    },
    "collapsed": false,
    "execution": {
     "iopub.execute_input": "2023-01-16T16:26:30.222000+08:00",
     "iopub.status.busy": "2023-01-16T16:26:30.221000+08:00",
     "iopub.status.idle": "2023-01-16T16:26:33.359000+08:00",
     "shell.execute_reply": "2023-01-16T16:26:33.358000+08:00",
     "shell.execute_reply.started": "2023-01-16T16:26:30.222000"
    },
    "jupyter": {
     "outputs_hidden": false
    },
    "scrolled": true
   },
   "outputs": [
    {
     "data": {
      "text/plain": [
       "(10.63,\n",
       " (4584L,),\n",
       " '603897',\n",
       "              open   high    low  close      vol    amount\n",
       " date                                                     \n",
       " 2023-01-13  22.15  22.15  21.56  21.72  2695900  58658859\n",
       " 2023-01-16  21.67  22.31  21.56  22.08  3325611  73198068)"
      ]
     },
     "execution_count": 3,
     "metadata": {},
     "output_type": "execute_result"
    },
    {
     "name": "stdout",
     "output_type": "stream",
     "text": [
      "df: 4584 dfs: 4584\n"
     ]
    }
   ],
   "source": [
    "\n",
    "\n",
    "code_uniquelist=df.index.get_level_values('code').unique()\n",
    "code_select = code_uniquelist[random.randint(0,len(code_uniquelist)-1)]\n",
    "round(time.time()-time_s,2),df.index.get_level_values('code').unique().shape,code_select,df.loc[code_select][-2:]\n",
    "# df.groupby(level=[0]),df.index.get_level_values(0)\n",
    "# len(df.index.get_level_values('code').unique())\n",
    "df = df.drop_duplicates()\n",
    "# dfs = df[~df.index.duplicated(keep='first')]\n",
    "dfs = df\n",
    "# print 'new:',sys.excepthook\n",
    "print \"df:\",len(df.index.get_level_values('code').unique()),\"dfs:\",len(dfs.index.get_level_values('code').unique())"
   ]
  },
  {
   "cell_type": "code",
   "execution_count": 4,
   "metadata": {
    "execution": {
     "iopub.execute_input": "2023-01-16T16:30:44.651000+08:00",
     "iopub.status.busy": "2023-01-16T16:30:44.650000+08:00",
     "iopub.status.idle": "2023-01-16T16:30:44.772000+08:00",
     "shell.execute_reply": "2023-01-16T16:30:44.772000+08:00",
     "shell.execute_reply.started": "2023-01-16T16:30:44.651000"
    }
   },
   "outputs": [
    {
     "data": {
      "text/plain": [
       "((300, 105), date\n",
       " 2023-01-12    21.82440\n",
       " 2023-01-13    21.81312\n",
       " 2023-01-16    21.80780\n",
       " Name: ma120d, dtype: float64)"
      ]
     },
     "execution_count": 4,
     "metadata": {},
     "output_type": "execute_result"
    }
   ],
   "source": [
    "# tdd.get_tdx_Exp_day_to_df('399006', dl=30, newdays=0, resample='d')[:2]\n",
    "# tdd.get_tdx_append_now_df_api('399006', dl=30, newdays=0)[['ma5d','ma10d','ma20d']][:3]\n",
    "dd =tdd.get_tdx_append_now_df_api('600150', dl=300).sort_index(ascending=True)\n",
    "dd['ma120d'] = pd.rolling_mean(dd.close, 250)\n",
    "dd.shape,dd['ma120d'][-3:]\n",
    "# dd.close"
   ]
  },
  {
   "cell_type": "code",
   "execution_count": 5,
   "metadata": {
    "ExecuteTime": {
     "end_time": "2023-01-12T12:22:21.141134Z",
     "start_time": "2023-01-12T12:22:21.124870Z"
    },
    "collapsed": false,
    "execution": {
     "iopub.execute_input": "2023-01-16T16:30:48.319000+08:00",
     "iopub.status.busy": "2023-01-16T16:30:48.319000+08:00",
     "iopub.status.idle": "2023-01-16T16:30:49.579000+08:00",
     "shell.execute_reply": "2023-01-16T16:30:49.578000+08:00",
     "shell.execute_reply.started": "2023-01-16T16:30:48.319000"
    },
    "jupyter": {
     "outputs_hidden": false
    }
   },
   "outputs": [
    {
     "data": {
      "text/plain": [
       "Index([u'000001', u'000002', u'000004', u'000005', u'000006'], dtype='object', name=u'code')"
      ]
     },
     "execution_count": 5,
     "metadata": {},
     "output_type": "execute_result"
    },
    {
     "name": "stdout",
     "output_type": "stream",
     "text": [
      "            open  high   low  close      vol       amount\n",
      "date                                                     \n",
      "2023-01-16  3.53  3.59  3.52   3.59  8831295  31542525.21\n"
     ]
    },
    {
     "data": {
      "text/plain": [
       "'2023-01-16'"
      ]
     },
     "execution_count": 5,
     "metadata": {},
     "output_type": "execute_result"
    },
    {
     "name": "stdout",
     "output_type": "stream",
     "text": [
      "tail1:              open   high    low  close       vol     amount\n",
      "date                                                       \n",
      "2023-01-16  32.92  34.29  32.82     34  22081667  744994105\n",
      "reset_index: date       2023-01-16\n",
      "open             3.53\n",
      "high             3.59\n",
      "low              3.52\n",
      "close            3.59\n",
      "vol        8.8313e+06\n",
      "amount    3.15425e+07\n",
      "Name: 300310, dtype: object\n",
      "groupy first: open      6.890000e+00\n",
      "high      6.990000e+00\n",
      "low       6.620000e+00\n",
      "close     6.780000e+00\n",
      "vol       3.392352e+07\n",
      "amount    2.290739e+08\n",
      "Name: 300310, dtype: float64\n",
      "groupy tail:             open  high   low  close      vol       amount\n",
      "date                                                     \n",
      "2023-01-16  3.53  3.59  3.52   3.59  8831295  31542525.21\n"
     ]
    }
   ],
   "source": [
    "dfs.index.levels[0][:5]\n",
    "print dfs.loc['300310'][-1:]\n",
    "dfs.index.get_level_values('date')[-1]\n",
    "# dfs[(dfs.index.get_level_values('date')[-1])]\n",
    "groupd = dfs.groupby(level=[0])\n",
    "print 'tail1:',groupd.tail(1).loc['600460']\n",
    "\n",
    "print 'reset_index:',dfs.reset_index(level=1).groupby(level=0).tail(1).loc['300310']\n",
    "\n",
    "print 'groupy first:',dfs.groupby(level=[0]).first().loc['300310']\n",
    "\n",
    "print 'groupy tail:',dfs.groupby(level=[0]).tail(1).loc['300310']\n",
    "# dfs.ix[dfs.index[len(dfs.index)-1][0]]\n",
    "# dfd = dfs.ix[dfs.index.levels[1][-1]]"
   ]
  },
  {
   "cell_type": "code",
   "execution_count": 6,
   "metadata": {
    "ExecuteTime": {
     "end_time": "2017-09-21T17:46:36.351527Z",
     "start_time": "2017-09-21T17:46:29.346191Z"
    },
    "collapsed": false,
    "execution": {
     "iopub.execute_input": "2023-01-16T16:30:54.233000+08:00",
     "iopub.status.busy": "2023-01-16T16:30:54.232000+08:00",
     "iopub.status.idle": "2023-01-16T16:31:03.749000+08:00",
     "shell.execute_reply": "2023-01-16T16:31:03.749000+08:00",
     "shell.execute_reply.started": "2023-01-16T16:30:54.233000"
    },
    "jupyter": {
     "outputs_hidden": false
    }
   },
   "outputs": [
    {
     "name": "stdout",
     "output_type": "stream",
     "text": [
      "                    open   high   low  close      vol    amount     ma5  ma200\n",
      "code   date                                                                   \n",
      "688186 2020-04-20  32.16  33.46  32.1  33.11  1691705  55678274  31.784    NaN 4584\n",
      "5 200\n"
     ]
    },
    {
     "data": {
      "text/plain": [
       "(284.04,\n",
       " (1040L,),\n",
       " '300366',\n",
       "              open   high    low  close       vol       amount     ma5   ma200\n",
       " date                                                                         \n",
       " 2023-01-16  10.88  11.55  10.86  11.12  37377914  420529207.3  11.064  9.1578)"
      ]
     },
     "execution_count": 6,
     "metadata": {},
     "output_type": "execute_result"
    }
   ],
   "source": [
    "\n",
    "# df['ma250d'] = pd.rolling_mean(df.close, 250)\n",
    "# df.groupby(level=[0]).agg({'close':'rolling_mean'})\n",
    "# df.sort_index(ascending=False,inplace=True)\n",
    "# dfs = df\n",
    "# dfs = dfs[~dfs.index.duplicated(keep='first')]\n",
    "# print \n",
    "groupd = dfs.groupby(level=[0])\n",
    "# for da in ['5','10','60','100','120','200']:\n",
    "# rollma = ['5','10','60','100','200']\n",
    "rollma = ['5','200']\n",
    "for da in rollma:\n",
    "    cumdays=int(da)\n",
    "    dfs['ma%d'%cumdays] = groupd['close'].apply(pd.rolling_mean, cumdays)\n",
    "# df.ix[df.index.levels[0]]\n",
    "#df.ix[df.index[len(df.index)-1][0]] #last row\n",
    "# import pdb;pdb.set_trace()\n",
    "# print groupd.tail(1).loc['600460']\n",
    "# dfd = tdd.search_Tdx_multi_data_duration(df=dfs,code_l=code_list, start='20170918', end='20170918', freq=None, col=None, index='date')\n",
    "dfd = groupd.tail(1)\n",
    "\n",
    "# dfs.index.levels[0]\n",
    "# dfs.iloc[-1]\n",
    "# dfd = dfs.ix[dfs.index.levels[1][-1]]\n",
    "\n",
    "\n",
    "print dfd[:1],len(dfd)\n",
    "# groupd.agg({'low': 'min'})\n",
    "# '''idx mask filter'''\n",
    "# '''\n",
    "idx = pd.IndexSlice\n",
    "print rollma[0],rollma[-1]\n",
    "# mask = (dfd[('close')] > dfd[('ma5')])  & (dfd[('close')] > dfd[('ma250')])\n",
    "mask =(dfs[('close')] > dfs[('ma%s')%(rollma[0])])  & (dfs[('close')] > dfs[('ma%s')%(rollma[-1])]) \n",
    "\n",
    "df=dfd.loc[idx[mask, :]]\n",
    "# df250=df\n",
    "# groupd.first()[:2],groupd.last()[:2]\n",
    "# groupd = df250.groupby(level=[0])\n",
    "# '''\n",
    "# groupd.transform(lambda x: x.iloc[-1])\n",
    "# groupd.last()\n",
    "# groupd.apply(lambda x: x.close > x.ma250)\n",
    "# df.shape,df.sort_index(ascending=False)[:5]\n",
    "# ?groupd.agg\n",
    "# groupd = df.groupby(level=[0])\n",
    "# groupd['close'].apply(pd.rolling_mean, 250, min_periods=1)\n",
    "#ex:# Group df by df.platoon, then apply a rolling mean lambda function to df.casualties\n",
    " # df.groupby('Platoon')['Casualties'].apply(lambda x:x.rolling(center=False,window=2).mean())\n",
    "# df[-2:]\n",
    "code_uniquelist=df.index.get_level_values('code').unique()\n",
    "code_select = code_uniquelist[random.randint(0,len(code_uniquelist)-1)]\n",
    "round(time.time()-time_s,2),df.index.get_level_values('code').unique().shape,code_select,df.loc[code_select]"
   ]
  },
  {
   "cell_type": "code",
   "execution_count": null,
   "metadata": {
    "collapsed": false,
    "jupyter": {
     "outputs_hidden": false
    }
   },
   "outputs": [],
   "source": []
  },
  {
   "cell_type": "code",
   "execution_count": null,
   "metadata": {
    "collapsed": false,
    "jupyter": {
     "outputs_hidden": false
    }
   },
   "outputs": [],
   "source": []
  }
 ],
 "metadata": {
  "kernelspec": {
   "display_name": "Python 2",
   "language": "python",
   "name": "python2"
  },
  "language_info": {
   "codemirror_mode": {
    "name": "ipython",
    "version": 2
   },
   "file_extension": ".py",
   "mimetype": "text/x-python",
   "name": "python",
   "nbconvert_exporter": "python",
   "pygments_lexer": "ipython2",
   "version": "2.7.13"
  },
  "nbTranslate": {
   "displayLangs": [
    "*"
   ],
   "hotkey": "alt-t",
   "langInMainMenu": true,
   "sourceLang": "en",
   "targetLang": "fr",
   "useGoogleTranslate": true
  },
  "toc": {
   "base_numbering": 1,
   "colors": {
    "hover_highlight": "#DAA520",
    "running_highlight": "#FF0000",
    "selected_highlight": "#FFD700"
   },
   "moveMenuLeft": true,
   "nav_menu": {
    "height": "12px",
    "width": "252px"
   },
   "navigate_menu": true,
   "number_sections": true,
   "sideBar": false,
   "skip_h1_title": false,
   "threshold": 4,
   "title_cell": "Table of Contents",
   "title_sidebar": "Contents",
   "toc_cell": false,
   "toc_position": {},
   "toc_section_display": "block",
   "toc_window_display": false,
   "widenNotebook": false
  },
  "varInspector": {
   "cols": {
    "lenName": 16,
    "lenType": 16,
    "lenVar": 40
   },
   "kernels_config": {
    "python": {
     "delete_cmd_postfix": "",
     "delete_cmd_prefix": "del ",
     "library": "var_list.py",
     "varRefreshCmd": "print(var_dic_list())"
    },
    "r": {
     "delete_cmd_postfix": ") ",
     "delete_cmd_prefix": "rm(",
     "library": "var_list.r",
     "varRefreshCmd": "cat(var_dic_list()) "
    }
   },
   "position": {
    "height": "410px",
    "left": "985.164px",
    "right": "20px",
    "top": "120px",
    "width": "367px"
   },
   "types_to_exclude": [
    "module",
    "function",
    "builtin_function_or_method",
    "instance",
    "_Feature"
   ],
   "window_display": true
  },
  "widgets": {
   "application/vnd.jupyter.widget-state+json": {
    "state": {},
    "version_major": 2,
    "version_minor": 0
   }
  }
 },
 "nbformat": 4,
 "nbformat_minor": 4
}
