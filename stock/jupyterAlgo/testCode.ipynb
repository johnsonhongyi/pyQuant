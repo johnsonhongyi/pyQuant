{
 "cells": [
  {
   "cell_type": "code",
   "execution_count": 8,
   "metadata": {
    "ExecuteTime": {
     "end_time": "2017-09-21T17:46:24.891581Z",
     "start_time": "2017-09-21T17:46:24.842520Z"
    }
   },
   "outputs": [],
   "source": [
    "# %%debug\n",
    "# import pdb\n",
    "# from pdb import set_trace as bp\n",
    "\n",
    "import sys,logging\n",
    "stdout=sys.stdout\n",
    "sys.path.append('../')\n",
    "import JSONData.tdx_data_Day as tdd\n",
    "from  JSONData import sina_data \n",
    "import pandas as pd\n",
    "sys.stdout=stdout\n",
    "\n",
    "from IPython.core.interactiveshell import InteractiveShell\n",
    "InteractiveShell.ast_node_interactivity = \"all\"\n",
    "\n",
    "# def excepthook(type,value,traceback):\n",
    "#     logging.error(\"Unhandled exception occured\",exc_info=(type,value,traceback))\n",
    "#     #Don't need another copy of traceback on stderr\n",
    "#     if old_excepthook!=sys.__excepthook__:\n",
    "#         old_excepthook(type,value,traceback)\n",
    "# print 'new:',sys.excepthook\n",
    "# sys.excepthook = excepthook\n",
    "# print 'new:',sys.excepthook\n",
    "\n",
    "#Delete Jupyter notebook root logger handler\n",
    "# mylogger = logging.getLogger()\n",
    "# if len(mylogger.handlers) > 0:\n",
    "#     for ix in mylogger.handlers:\n",
    "#         print (\"handlers:%s std:%s\"%(ix.stream,sys.stdout))\n",
    "# else:\n",
    "#     print \"nb not handlers\"\n",
    "# #     mylogger.propagate = False\n",
    "# mylogger.setLevel(logging.ERROR)\n",
    "# print \"nb:\",sys.stderr\n",
    "\n",
    "df=tdd.get_tdx_Exp_day_to_df('999999',dl=5)\n",
    "# print df[~df.index.duplicated(keep='first')]"
   ]
  },
  {
   "cell_type": "code",
   "execution_count": 9,
   "metadata": {
    "ExecuteTime": {
     "end_time": "2017-09-21T17:46:27.634845Z",
     "start_time": "2017-09-21T17:46:25.536159Z"
    },
    "scrolled": true
   },
   "outputs": [
    {
     "name": "stdout",
     "output_type": "stream",
     "text": [
      "all code: 3362\n"
     ]
    },
    {
     "data": {
      "text/plain": [
       "(0.5, (3358,), '600004',             open  high   low  close      vol    amount\n",
       " date                                                  \n",
       " 2016-05-12  7.98  8.05  7.86   7.99  6264058  76579272\n",
       " 2016-05-13  7.95  8.08  7.88   7.93  5671598  69406952)"
      ]
     },
     "execution_count": 9,
     "metadata": {},
     "output_type": "execute_result"
    },
    {
     "name": "stdout",
     "output_type": "stream",
     "text": [
      "df: 3358 dfs: 3358\n"
     ]
    }
   ],
   "source": [
    "import time,random\n",
    "# start='20110226'\n",
    "start = None\n",
    "time_s = time.time()\n",
    "# code_list = ['399006','000001','999999']\n",
    "code_list = sina_data.Sina().market('all').index.tolist()\n",
    "print \"all code:\",len(code_list)\n",
    "\n",
    "# df = tdd.search_Tdx_multi_data_duration('tdx_all_df_300', 'all_300', df=None,code_l=code_list, start=start, end=None, freq=None, col=None, index='date')\n",
    "df = tdd.search_Tdx_multi_data_duration('tdx_all_df_300', 'all_300', df=None,code_l=code_list, start='20150501', end=None, freq=None, col=None, index='date')\n",
    "# print len(df.loc['600816'])\n",
    "code_uniquelist=df.index.get_level_values('code').unique()\n",
    "code_select = code_uniquelist[random.randint(0,len(code_uniquelist)-1)]\n",
    "round(time.time()-time_s,2),df.index.get_level_values('code').unique().shape,code_select,df.loc[code_select][:2]\n",
    "# df.groupby(level=[0]),df.index.get_level_values(0)\n",
    "# len(df.index.get_level_values('code').unique())\n",
    "df = df.drop_duplicates()\n",
    "# dfs = df[~df.index.duplicated(keep='first')]\n",
    "dfs = df\n",
    "# print 'new:',sys.excepthook\n",
    "print \"df:\",len(df.index.get_level_values('code').unique()),\"dfs:\",len(dfs.index.get_level_values('code').unique())"
   ]
  },
  {
   "cell_type": "markdown",
   "metadata": {},
   "source": [
    "# tdd.get_tdx_Exp_day_to_df('399006', dl=30, newdays=0, resample='d')[:2]\n",
    "# tdd.get_tdx_append_now_df_api('399006', dl=30, newdays=0)[['ma5d','ma10d','ma20d']][:3]\n",
    "dd =tdd.get_tdx_append_now_df_api('600150', dl=300).sort_index(ascending=True)\n",
    "dd['ma120d'] = pd.rolling_mean(dd.close, 250)\n",
    "dd.shape,dd['ma120d'][-3:]\n",
    "# dd.close"
   ]
  },
  {
   "cell_type": "code",
   "execution_count": 10,
   "metadata": {
    "ExecuteTime": {
     "end_time": "2017-09-21T17:46:28.256965Z",
     "start_time": "2017-09-21T17:46:27.636851Z"
    }
   },
   "outputs": [
    {
     "data": {
      "text/plain": [
       "Index([u'000001', u'000002', u'000004', u'000005', u'000006'], dtype='object', name=u'code')"
      ]
     },
     "execution_count": 10,
     "metadata": {},
     "output_type": "execute_result"
    },
    {
     "name": "stdout",
     "output_type": "stream",
     "text": [
      "             open   high    low  close       vol        amount\n",
      "date                                                          \n",
      "2017-09-21  12.66  13.36  12.66  13.01  28895638  3.792634e+08\n"
     ]
    },
    {
     "data": {
      "text/plain": [
       "'2017-09-21'"
      ]
     },
     "execution_count": 10,
     "metadata": {},
     "output_type": "execute_result"
    },
    {
     "name": "stdout",
     "output_type": "stream",
     "text": [
      "tail1:             open  high   low  close        vol      amount\n",
      "date                                                      \n",
      "2017-09-21  9.35   9.9  9.29   9.86  198834725  1922391747\n",
      "reset_index: date       2017-09-21\n",
      "open            12.66\n",
      "high            13.36\n",
      "low             12.66\n",
      "close           13.01\n",
      "vol       2.88956e+07\n",
      "amount    3.79263e+08\n",
      "Name: 300310, dtype: object\n",
      "groupy first: open      1.522000e+01\n",
      "high      1.710000e+01\n",
      "low       1.435000e+01\n",
      "close     1.658000e+01\n",
      "vol       4.362789e+06\n",
      "amount    1.946844e+08\n",
      "Name: 300310, dtype: float64\n",
      "groupy tail:              open   high    low  close       vol        amount\n",
      "date                                                          \n",
      "2017-09-21  12.66  13.36  12.66  13.01  28895638  3.792634e+08\n"
     ]
    }
   ],
   "source": [
    "dfs.index.levels[0][:5]\n",
    "print dfs.loc['300310'][-1:]\n",
    "dfs.index.get_level_values('date')[-1]\n",
    "# dfs[(dfs.index.get_level_values('date')[-1])]\n",
    "groupd = dfs.groupby(level=[0])\n",
    "print 'tail1:',groupd.tail(1).loc['600460']\n",
    "\n",
    "print 'reset_index:',dfs.reset_index(level=1).groupby(level=0).tail(1).loc['300310']\n",
    "\n",
    "print 'groupy first:',dfs.groupby(level=[0]).first().loc['300310']\n",
    "\n",
    "print 'groupy tail:',dfs.groupby(level=[0]).tail(1).loc['300310']\n",
    "# dfs.ix[dfs.index[len(dfs.index)-1][0]]\n",
    "# dfd = dfs.ix[dfs.index.levels[1][-1]]"
   ]
  },
  {
   "cell_type": "code",
   "execution_count": 11,
   "metadata": {
    "ExecuteTime": {
     "end_time": "2017-09-21T17:46:36.351527Z",
     "start_time": "2017-09-21T17:46:29.346191Z"
    }
   },
   "outputs": [
    {
     "name": "stdout",
     "output_type": "stream",
     "text": [
      "                    open   high    low  close     vol   amount     ma5  \\\n",
      "code   date                                                              \n",
      "300492 2017-06-05  45.96  46.25  45.06  45.98  151844  6970620  46.032   \n",
      "\n",
      "                     ma200  \n",
      "code   date                 \n",
      "300492 2017-06-05  50.5006   3358\n",
      "5 200\n"
     ]
    },
    {
     "data": {
      "text/plain": [
       "(10.79,\n",
       " (389,),\n",
       " '002523',\n",
       "             open  high   low  close      vol       amount   ma5   ma200\n",
       " date                                                                   \n",
       " 2017-09-21  5.88  5.91  5.71   5.74  6395397  37155373.61  5.71  5.6093)"
      ]
     },
     "execution_count": 11,
     "metadata": {},
     "output_type": "execute_result"
    }
   ],
   "source": [
    "\n",
    "# df['ma250d'] = pd.rolling_mean(df.close, 250)\n",
    "# df.groupby(level=[0]).agg({'close':'rolling_mean'})\n",
    "# df.sort_index(ascending=False,inplace=True)\n",
    "# dfs = df\n",
    "# dfs = dfs[~dfs.index.duplicated(keep='first')]\n",
    "# print \n",
    "groupd = dfs.groupby(level=[0])\n",
    "# for da in ['5','10','60','100','120','200']:\n",
    "# rollma = ['5','10','60','100','200']\n",
    "rollma = ['5','200']\n",
    "for da in rollma:\n",
    "    cumdays=int(da)\n",
    "    dfs['ma%d'%cumdays] = groupd['close'].apply(pd.rolling_mean, cumdays)\n",
    "# df.ix[df.index.levels[0]]\n",
    "#df.ix[df.index[len(df.index)-1][0]] #last row\n",
    "# import pdb;pdb.set_trace()\n",
    "# print groupd.tail(1).loc['600460']\n",
    "# dfd = tdd.search_Tdx_multi_data_duration(df=dfs,code_l=code_list, start='20170918', end='20170918', freq=None, col=None, index='date')\n",
    "dfd = groupd.tail(1)\n",
    "\n",
    "# dfs.index.levels[0]\n",
    "# dfs.iloc[-1]\n",
    "# dfd = dfs.ix[dfs.index.levels[1][-1]]\n",
    "\n",
    "\n",
    "print dfd[:1],len(dfd)\n",
    "# groupd.agg({'low': 'min'})\n",
    "# '''idx mask filter'''\n",
    "# '''\n",
    "idx = pd.IndexSlice\n",
    "print rollma[0],rollma[-1]\n",
    "# mask = (dfd[('close')] > dfd[('ma5')])  & (dfd[('close')] > dfd[('ma250')])\n",
    "mask =(dfs[('close')] > dfs[('ma%s')%(rollma[0])])  & (dfs[('close')] > dfs[('ma%s')%(rollma[-1])]) \n",
    "\n",
    "df=dfd.loc[idx[mask, :]]\n",
    "# df250=df\n",
    "# groupd.first()[:2],groupd.last()[:2]\n",
    "# groupd = df250.groupby(level=[0])\n",
    "# '''\n",
    "# groupd.transform(lambda x: x.iloc[-1])\n",
    "# groupd.last()\n",
    "# groupd.apply(lambda x: x.close > x.ma250)\n",
    "# df.shape,df.sort_index(ascending=False)[:5]\n",
    "# ?groupd.agg\n",
    "# groupd = df.groupby(level=[0])\n",
    "# groupd['close'].apply(pd.rolling_mean, 250, min_periods=1)\n",
    "#ex:# Group df by df.platoon, then apply a rolling mean lambda function to df.casualties\n",
    " # df.groupby('Platoon')['Casualties'].apply(lambda x:x.rolling(center=False,window=2).mean())\n",
    "# df[-2:]\n",
    "code_uniquelist=df.index.get_level_values('code').unique()\n",
    "code_select = code_uniquelist[random.randint(0,len(code_uniquelist)-1)]\n",
    "round(time.time()-time_s,2),df.index.get_level_values('code').unique().shape,code_select,df.loc[code_select]"
   ]
  },
  {
   "cell_type": "code",
   "execution_count": null,
   "metadata": {
    "collapsed": true
   },
   "outputs": [],
   "source": []
  },
  {
   "cell_type": "code",
   "execution_count": null,
   "metadata": {
    "collapsed": true
   },
   "outputs": [],
   "source": []
  }
 ],
 "metadata": {
  "kernelspec": {
   "display_name": "Python 2",
   "language": "python",
   "name": "python2"
  },
  "language_info": {
   "codemirror_mode": {
    "name": "ipython",
    "version": 2
   },
   "file_extension": ".py",
   "mimetype": "text/x-python",
   "name": "python",
   "nbconvert_exporter": "python",
   "pygments_lexer": "ipython2",
   "version": "2.7.11"
  },
  "toc": {
   "colors": {
    "hover_highlight": "#DAA520",
    "navigate_num": "#000000",
    "navigate_text": "#333333",
    "running_highlight": "#FF0000",
    "selected_highlight": "#FFD700",
    "sidebar_border": "#EEEEEE",
    "wrapper_background": "#FFFFFF"
   },
   "moveMenuLeft": true,
   "nav_menu": {
    "height": "12px",
    "width": "252px"
   },
   "navigate_menu": true,
   "number_sections": true,
   "sideBar": false,
   "threshold": 4,
   "toc_cell": false,
   "toc_section_display": "block",
   "toc_window_display": false,
   "widenNotebook": false
  }
 },
 "nbformat": 4,
 "nbformat_minor": 2
}
