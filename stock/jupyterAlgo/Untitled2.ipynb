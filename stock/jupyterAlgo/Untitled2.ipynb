{
 "cells": [
  {
   "cell_type": "markdown",
   "metadata": {},
   "source": [
    "# https://www.quantinsti.com/blog/build-technical-indicators-in-python/"
   ]
  },
  {
   "cell_type": "code",
   "execution_count": null,
   "metadata": {},
   "outputs": [],
   "source": [
    "import torch\n",
    "import torchvision \n",
    "import torchvision.transformsa as transforms\n"
   ]
  },
  {
   "cell_type": "code",
   "execution_count": 1,
   "metadata": {},
   "outputs": [],
   "source": [
    "# %matplotlib inline\n",
    "import sys\n",
    "sys.path.append('../')\n",
    "import JSONData.tdx_data_Day as tdd\n",
    "# data = tdd.get_tdx_Exp_day_to_df('999999',dl=200).sort_index(ascending=True)\n",
    "data = tdd.get_tdx_append_now_df_api('999999',dl=30).sort_index(ascending=False)\n",
    "# data[:2]"
   ]
  },
  {
   "cell_type": "code",
   "execution_count": 3,
   "metadata": {
    "scrolled": true
   },
   "outputs": [
    {
     "data": {
      "text/html": [
       "<div>\n",
       "<table border=\"1\" class=\"dataframe\">\n",
       "  <thead>\n",
       "    <tr style=\"text-align: right;\">\n",
       "      <th></th>\n",
       "      <th>code</th>\n",
       "      <th>Open</th>\n",
       "      <th>High</th>\n",
       "      <th>Low</th>\n",
       "      <th>Close</th>\n",
       "      <th>vol</th>\n",
       "      <th>amount</th>\n",
       "      <th>ma5d</th>\n",
       "      <th>ma10d</th>\n",
       "      <th>ma20d</th>\n",
       "      <th>...</th>\n",
       "      <th>per9d</th>\n",
       "      <th>perc9d</th>\n",
       "      <th>top10</th>\n",
       "      <th>hmax</th>\n",
       "      <th>max5</th>\n",
       "      <th>lmin</th>\n",
       "      <th>min5</th>\n",
       "      <th>cmean</th>\n",
       "      <th>hv</th>\n",
       "      <th>lv</th>\n",
       "    </tr>\n",
       "    <tr>\n",
       "      <th>date</th>\n",
       "      <th></th>\n",
       "      <th></th>\n",
       "      <th></th>\n",
       "      <th></th>\n",
       "      <th></th>\n",
       "      <th></th>\n",
       "      <th></th>\n",
       "      <th></th>\n",
       "      <th></th>\n",
       "      <th></th>\n",
       "      <th></th>\n",
       "      <th></th>\n",
       "      <th></th>\n",
       "      <th></th>\n",
       "      <th></th>\n",
       "      <th></th>\n",
       "      <th></th>\n",
       "      <th></th>\n",
       "      <th></th>\n",
       "      <th></th>\n",
       "      <th></th>\n",
       "    </tr>\n",
       "  </thead>\n",
       "  <tbody>\n",
       "    <tr>\n",
       "      <th>2020-06-19</th>\n",
       "      <td>999999</td>\n",
       "      <td>2938.79</td>\n",
       "      <td>2973.32</td>\n",
       "      <td>2935.82</td>\n",
       "      <td>2967.63</td>\n",
       "      <td>264313961</td>\n",
       "      <td>3.190891e+11</td>\n",
       "      <td>0</td>\n",
       "      <td>0</td>\n",
       "      <td>0</td>\n",
       "      <td>...</td>\n",
       "      <td>1.4</td>\n",
       "      <td>0</td>\n",
       "      <td>0</td>\n",
       "      <td>3458.79</td>\n",
       "      <td>3450.59</td>\n",
       "      <td>2935.82</td>\n",
       "      <td>3327.71</td>\n",
       "      <td>3405.2</td>\n",
       "      <td>657840159</td>\n",
       "      <td>213200732</td>\n",
       "    </tr>\n",
       "    <tr>\n",
       "      <th>2020-06-22</th>\n",
       "      <td>999999</td>\n",
       "      <td>2966.90</td>\n",
       "      <td>2983.44</td>\n",
       "      <td>2959.03</td>\n",
       "      <td>2965.27</td>\n",
       "      <td>267883834</td>\n",
       "      <td>3.460287e+11</td>\n",
       "      <td>0</td>\n",
       "      <td>0</td>\n",
       "      <td>0</td>\n",
       "      <td>...</td>\n",
       "      <td>1.4</td>\n",
       "      <td>0</td>\n",
       "      <td>0</td>\n",
       "      <td>3458.79</td>\n",
       "      <td>3450.59</td>\n",
       "      <td>2935.82</td>\n",
       "      <td>3327.71</td>\n",
       "      <td>3405.2</td>\n",
       "      <td>657840159</td>\n",
       "      <td>213200732</td>\n",
       "    </tr>\n",
       "  </tbody>\n",
       "</table>\n",
       "<p>2 rows × 74 columns</p>\n",
       "</div>"
      ],
      "text/plain": [
       "              code     Open     High      Low    Close        vol  \\\n",
       "date                                                                \n",
       "2020-06-19  999999  2938.79  2973.32  2935.82  2967.63  264313961   \n",
       "2020-06-22  999999  2966.90  2983.44  2959.03  2965.27  267883834   \n",
       "\n",
       "                  amount  ma5d  ma10d  ma20d    ...      per9d  perc9d  top10  \\\n",
       "date                                            ...                             \n",
       "2020-06-19  3.190891e+11     0      0      0    ...        1.4       0      0   \n",
       "2020-06-22  3.460287e+11     0      0      0    ...        1.4       0      0   \n",
       "\n",
       "               hmax     max5     lmin     min5   cmean         hv         lv  \n",
       "date                                                                          \n",
       "2020-06-19  3458.79  3450.59  2935.82  3327.71  3405.2  657840159  213200732  \n",
       "2020-06-22  3458.79  3450.59  2935.82  3327.71  3405.2  657840159  213200732  \n",
       "\n",
       "[2 rows x 74 columns]"
      ]
     },
     "execution_count": 3,
     "metadata": {},
     "output_type": "execute_result"
    }
   ],
   "source": [
    "data.sort_index(ascending=True,inplace=True)\n",
    "data.rename(columns={'close': 'Close','high': 'High','low': 'Low','open': 'Open'}, inplace=True)\n",
    "# data = data.iloc[:,1:5]\n",
    "data[:2]"
   ]
  },
  {
   "cell_type": "code",
   "execution_count": 29,
   "metadata": {},
   "outputs": [
    {
     "data": {
      "text/plain": [
       "[None, None, None, None, None, None, None]"
      ]
     },
     "execution_count": 29,
     "metadata": {},
     "output_type": "execute_result"
    },
    {
     "data": {
      "image/png": "[encoded data removed]",
      "text/plain": [
       "<matplotlib.figure.Figure at 0x10eba37d0>"
      ]
     },
     "metadata": {},
     "output_type": "display_data"
    }
   ],
   "source": [
    "# Commodity Channel Index Python Code\n",
    "\n",
    "# Load the necessary packages and modules\n",
    "# from pandas_datareader import data as pdr\n",
    "import matplotlib.pyplot as plt\n",
    "# import fix_yahoo_finance\n",
    "import pandas as pd\n",
    "\n",
    "data.rename\n",
    "# Commodity Channel Index \n",
    "def CCI(data, ndays): \n",
    " TP = (data['High'] + data['Low'] + data['Close']) / 3 \n",
    " CCI = pd.Series((TP - pd.rolling_mean(TP, ndays)) / (0.015 * pd.rolling_std(TP, ndays)),\n",
    " name = 'CCI') \n",
    " data = data.join(CCI) \n",
    " return data\n",
    "\n",
    "# Retrieve the Nifty data from Yahoo finance:\n",
    "# data = pdr.get_data_yahoo(\"^NSEI\", start=\"2014-01-01\", end=\"2016-01-01\") \n",
    "# data = pd.DataFrame(data)\n",
    "\n",
    "# Compute the Commodity Channel Index(CCI) for NIFTY based on the 20-day Moving average\n",
    "n = 20\n",
    "NIFTY_CCI = CCI(data, n)\n",
    "CCI = NIFTY_CCI['CCI']\n",
    "\n",
    "# Plotting the Price Series chart and the Commodity Channel index below\n",
    "fig = plt.figure(figsize=(7,5))\n",
    "ax = fig.add_subplot(2, 1, 1)\n",
    "ax.set_xticklabels([])\n",
    "plt.plot(data['Close'],lw=1)\n",
    "plt.title('NSE Price Chart')\n",
    "plt.ylabel('Close Price')\n",
    "plt.grid(True)\n",
    "bx = fig.add_subplot(2, 1, 2)\n",
    "plt.plot(CCI,'k',lw=0.75,linestyle='-',label='CCI')\n",
    "plt.legend(loc=2,prop={'size':9.5})\n",
    "plt.ylabel('CCI values')\n",
    "plt.grid(True)\n",
    "plt.setp(plt.gca().get_xticklabels(), rotation=30)"
   ]
  }
 ],
 "metadata": {
  "kernelspec": {
   "display_name": "pytorch_gpu",
   "language": "python",
   "name": "pytorch_gpu"
  },
  "language_info": {
   "codemirror_mode": {
    "name": "ipython",
    "version": 3
   },
   "file_extension": ".py",
   "mimetype": "text/x-python",
   "name": "python",
   "nbconvert_exporter": "python",
   "pygments_lexer": "ipython3",
   "version": "3.7.7"
  },
  "nbTranslate": {
   "displayLangs": [
    "*"
   ],
   "hotkey": "alt-t",
   "langInMainMenu": true,
   "sourceLang": "en",
   "targetLang": "fr",
   "useGoogleTranslate": true
  },
  "toc": {
   "base_numbering": 1,
   "nav_menu": {
    "height": "12px",
    "width": "252px"
   },
   "number_sections": true,
   "sideBar": false,
   "skip_h1_title": false,
   "title_cell": "Table of Contents",
   "title_sidebar": "Contents",
   "toc_cell": false,
   "toc_position": {
    "height": "273px",
    "left": "1198.28125px",
    "right": "20px",
    "top": "120px",
    "width": "195px"
   },
   "toc_section_display": "block",
   "toc_window_display": true
  },
  "varInspector": {
   "cols": {
    "lenName": 16,
    "lenType": 16,
    "lenVar": 40
   },
   "kernels_config": {
    "python": {
     "delete_cmd_postfix": "",
     "delete_cmd_prefix": "del ",
     "library": "var_list.py",
     "varRefreshCmd": "print(var_dic_list())"
    },
    "r": {
     "delete_cmd_postfix": ") ",
     "delete_cmd_prefix": "rm(",
     "library": "var_list.r",
     "varRefreshCmd": "cat(var_dic_list()) "
    }
   },
   "types_to_exclude": [
    "module",
    "function",
    "builtin_function_or_method",
    "instance",
    "_Feature"
   ],
   "window_display": false
  }
 },
 "nbformat": 4,
 "nbformat_minor": 2
}
