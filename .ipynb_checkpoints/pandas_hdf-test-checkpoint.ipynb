{
 "cells": [
  {
   "cell_type": "code",
   "execution_count": null,
   "id": "a9684cba-790c-48c8-8a65-fb6389310398",
   "metadata": {},
   "outputs": [],
   "source": [
    "#初始化pandas.HDFStore"
   ]
  },
  {
   "cell_type": "code",
   "execution_count": 1,
   "id": "6af0cc61-985b-4fe5-8220-684717504684",
   "metadata": {},
   "outputs": [],
   "source": [
    "import pandas\n",
    "fpath = 'tdx_all_df_300.h5'\n"
   ]
  },
  {
   "cell_type": "code",
   "execution_count": 2,
   "id": "5fb15690-a5e7-4c1f-a78b-b46e07111776",
   "metadata": {},
   "outputs": [],
   "source": [
    "def readHdf5(fpath,root):\n",
    "    store=pd.HDFStore(fpath,'r')\n",
    "    print(store.keys())\n",
    "    df=store[root]\n",
    "    store.close()\n",
    "    return df"
   ]
  },
  {
   "cell_type": "code",
   "execution_count": 3,
   "id": "d16ae192-1082-4314-8ed5-4d962091426d",
   "metadata": {},
   "outputs": [
    {
     "data": {
      "application/javascript": [
       "\n",
       "        if (window._pyforest_update_imports_cell) { window._pyforest_update_imports_cell('import pandas as pd'); }\n",
       "    "
      ],
      "text/plain": [
       "<IPython.core.display.Javascript object>"
      ]
     },
     "metadata": {},
     "output_type": "display_data"
    },
    {
     "name": "stdout",
     "output_type": "stream",
     "text": [
      "['/all_300']\n"
     ]
    },
    {
     "data": {
      "text/html": [
       "<div>\n",
       "<style scoped>\n",
       "    .dataframe tbody tr th:only-of-type {\n",
       "        vertical-align: middle;\n",
       "    }\n",
       "\n",
       "    .dataframe tbody tr th {\n",
       "        vertical-align: top;\n",
       "    }\n",
       "\n",
       "    .dataframe thead th {\n",
       "        text-align: right;\n",
       "    }\n",
       "</style>\n",
       "<table border=\"1\" class=\"dataframe\">\n",
       "  <thead>\n",
       "    <tr style=\"text-align: right;\">\n",
       "      <th></th>\n",
       "      <th></th>\n",
       "      <th>open</th>\n",
       "      <th>high</th>\n",
       "      <th>low</th>\n",
       "      <th>close</th>\n",
       "      <th>vol</th>\n",
       "      <th>amount</th>\n",
       "    </tr>\n",
       "    <tr>\n",
       "      <th>code</th>\n",
       "      <th>date</th>\n",
       "      <th></th>\n",
       "      <th></th>\n",
       "      <th></th>\n",
       "      <th></th>\n",
       "      <th></th>\n",
       "      <th></th>\n",
       "    </tr>\n",
       "  </thead>\n",
       "  <tbody>\n",
       "    <tr>\n",
       "      <th>300132</th>\n",
       "      <th>2023-01-13</th>\n",
       "      <td>6.99</td>\n",
       "      <td>6.99</td>\n",
       "      <td>6.85</td>\n",
       "      <td>6.94</td>\n",
       "      <td>6765847.0</td>\n",
       "      <td>4.671645e+07</td>\n",
       "    </tr>\n",
       "    <tr>\n",
       "      <th>300131</th>\n",
       "      <th>2023-01-13</th>\n",
       "      <td>4.93</td>\n",
       "      <td>4.93</td>\n",
       "      <td>4.85</td>\n",
       "      <td>4.90</td>\n",
       "      <td>6888600.0</td>\n",
       "      <td>3.362897e+07</td>\n",
       "    </tr>\n",
       "    <tr>\n",
       "      <th>300130</th>\n",
       "      <th>2023-01-13</th>\n",
       "      <td>12.66</td>\n",
       "      <td>12.84</td>\n",
       "      <td>12.52</td>\n",
       "      <td>12.83</td>\n",
       "      <td>12621101.0</td>\n",
       "      <td>1.607520e+08</td>\n",
       "    </tr>\n",
       "  </tbody>\n",
       "</table>\n",
       "</div>"
      ],
      "text/plain": [
       "                    open   high    low  close         vol        amount\n",
       "code   date                                                            \n",
       "300132 2023-01-13   6.99   6.99   6.85   6.94   6765847.0  4.671645e+07\n",
       "300131 2023-01-13   4.93   4.93   4.85   4.90   6888600.0  3.362897e+07\n",
       "300130 2023-01-13  12.66  12.84  12.52  12.83  12621101.0  1.607520e+08"
      ]
     },
     "execution_count": 3,
     "metadata": {},
     "output_type": "execute_result"
    }
   ],
   "source": [
    "df=readHdf5(fpath,'all_300')\n",
    "df[-3:]"
   ]
  },
  {
   "cell_type": "code",
   "execution_count": 33,
   "id": "da7403f3-b211-473a-a889-6b0cf71f1801",
   "metadata": {},
   "outputs": [],
   "source": [
    "#open tdx_Ramdisk"
   ]
  },
  {
   "cell_type": "code",
   "execution_count": 6,
   "id": "7f43b9f3-f6aa-4ea0-8404-436e5cfbc645",
   "metadata": {},
   "outputs": [],
   "source": [
    "tdx_path='G:\\\\tdx_last_df.h5'\n",
    "sina_MultiD_path='G:\\\\sina_MultiIndex_data.h5'"
   ]
  },
  {
   "cell_type": "code",
   "execution_count": 10,
   "id": "06ac0177-01c6-45b4-b49c-dac30f5cf5fb",
   "metadata": {},
   "outputs": [
    {
     "data": {
      "application/javascript": [
       "\n",
       "        if (window._pyforest_update_imports_cell) { window._pyforest_update_imports_cell('import pandas as pd'); }\n",
       "    "
      ],
      "text/plain": [
       "<IPython.core.display.Javascript object>"
      ]
     },
     "metadata": {},
     "output_type": "display_data"
    },
    {
     "name": "stdout",
     "output_type": "stream",
     "text": [
      "['/low_d_60_y_all']\n"
     ]
    },
    {
     "data": {
      "text/html": [
       "<div>\n",
       "<style scoped>\n",
       "    .dataframe tbody tr th:only-of-type {\n",
       "        vertical-align: middle;\n",
       "    }\n",
       "\n",
       "    .dataframe tbody tr th {\n",
       "        vertical-align: top;\n",
       "    }\n",
       "\n",
       "    .dataframe thead th {\n",
       "        text-align: right;\n",
       "    }\n",
       "</style>\n",
       "<table border=\"1\" class=\"dataframe\">\n",
       "  <thead>\n",
       "    <tr style=\"text-align: right;\">\n",
       "      <th></th>\n",
       "      <th>lopen</th>\n",
       "      <th>lhigh</th>\n",
       "      <th>llow</th>\n",
       "      <th>lastp</th>\n",
       "      <th>lvol</th>\n",
       "      <th>lamount</th>\n",
       "      <th>ma5d</th>\n",
       "      <th>ma10d</th>\n",
       "      <th>ma20d</th>\n",
       "      <th>upper</th>\n",
       "      <th>...</th>\n",
       "      <th>lmin</th>\n",
       "      <th>min5</th>\n",
       "      <th>cmean</th>\n",
       "      <th>hv</th>\n",
       "      <th>lv</th>\n",
       "      <th>date</th>\n",
       "      <th>lowvol</th>\n",
       "      <th>last6vol</th>\n",
       "      <th>category</th>\n",
       "      <th>timel</th>\n",
       "    </tr>\n",
       "    <tr>\n",
       "      <th>code</th>\n",
       "      <th></th>\n",
       "      <th></th>\n",
       "      <th></th>\n",
       "      <th></th>\n",
       "      <th></th>\n",
       "      <th></th>\n",
       "      <th></th>\n",
       "      <th></th>\n",
       "      <th></th>\n",
       "      <th></th>\n",
       "      <th></th>\n",
       "      <th></th>\n",
       "      <th></th>\n",
       "      <th></th>\n",
       "      <th></th>\n",
       "      <th></th>\n",
       "      <th></th>\n",
       "      <th></th>\n",
       "      <th></th>\n",
       "      <th></th>\n",
       "      <th></th>\n",
       "    </tr>\n",
       "  </thead>\n",
       "  <tbody>\n",
       "    <tr>\n",
       "      <th>600918</th>\n",
       "      <td>6.32</td>\n",
       "      <td>6.44</td>\n",
       "      <td>6.31</td>\n",
       "      <td>6.36</td>\n",
       "      <td>18702535.0</td>\n",
       "      <td>121915048.0</td>\n",
       "      <td>6.5</td>\n",
       "      <td>6.5</td>\n",
       "      <td>6.5</td>\n",
       "      <td>7.2</td>\n",
       "      <td>...</td>\n",
       "      <td>6.31</td>\n",
       "      <td>6.39</td>\n",
       "      <td>6.49</td>\n",
       "      <td>38314144.0</td>\n",
       "      <td>6789000.0</td>\n",
       "      <td>2022-10-31</td>\n",
       "      <td>18277677.0</td>\n",
       "      <td>9492885.0</td>\n",
       "      <td>新三板精选层 ;新股与次新股</td>\n",
       "      <td>1.673752e+09</td>\n",
       "    </tr>\n",
       "    <tr>\n",
       "      <th>003003</th>\n",
       "      <td>9.00</td>\n",
       "      <td>9.06</td>\n",
       "      <td>8.79</td>\n",
       "      <td>9.01</td>\n",
       "      <td>4595854.0</td>\n",
       "      <td>49670366.7</td>\n",
       "      <td>11.1</td>\n",
       "      <td>11.6</td>\n",
       "      <td>11.4</td>\n",
       "      <td>12.9</td>\n",
       "      <td>...</td>\n",
       "      <td>8.79</td>\n",
       "      <td>10.66</td>\n",
       "      <td>11.13</td>\n",
       "      <td>28214046.0</td>\n",
       "      <td>1672837.0</td>\n",
       "      <td>2022-10-25</td>\n",
       "      <td>8318933.0</td>\n",
       "      <td>4595854.0</td>\n",
       "      <td>快递 ;新股与次新股 ;核准制</td>\n",
       "      <td>1.673752e+09</td>\n",
       "    </tr>\n",
       "    <tr>\n",
       "      <th>605199</th>\n",
       "      <td>14.75</td>\n",
       "      <td>15.08</td>\n",
       "      <td>14.32</td>\n",
       "      <td>14.54</td>\n",
       "      <td>2214900.0</td>\n",
       "      <td>34868538.0</td>\n",
       "      <td>15.9</td>\n",
       "      <td>16.1</td>\n",
       "      <td>17.9</td>\n",
       "      <td>17.9</td>\n",
       "      <td>...</td>\n",
       "      <td>14.32</td>\n",
       "      <td>15.62</td>\n",
       "      <td>15.88</td>\n",
       "      <td>34435419.0</td>\n",
       "      <td>2097200.0</td>\n",
       "      <td>2022-10-25</td>\n",
       "      <td>2734338.0</td>\n",
       "      <td>2214900.0</td>\n",
       "      <td>中医药 ;流感 ;海南自贸区</td>\n",
       "      <td>1.673752e+09</td>\n",
       "    </tr>\n",
       "  </tbody>\n",
       "</table>\n",
       "<p>3 rows × 105 columns</p>\n",
       "</div>"
      ],
      "text/plain": [
       "        lopen  lhigh   llow  lastp        lvol      lamount  ma5d  ma10d  \\\n",
       "code                                                                       \n",
       "600918   6.32   6.44   6.31   6.36  18702535.0  121915048.0   6.5    6.5   \n",
       "003003   9.00   9.06   8.79   9.01   4595854.0   49670366.7  11.1   11.6   \n",
       "605199  14.75  15.08  14.32  14.54   2214900.0   34868538.0  15.9   16.1   \n",
       "\n",
       "        ma20d  upper  ...   lmin   min5  cmean          hv         lv  \\\n",
       "code                  ...                                               \n",
       "600918    6.5    7.2  ...   6.31   6.39   6.49  38314144.0  6789000.0   \n",
       "003003   11.4   12.9  ...   8.79  10.66  11.13  28214046.0  1672837.0   \n",
       "605199   17.9   17.9  ...  14.32  15.62  15.88  34435419.0  2097200.0   \n",
       "\n",
       "              date      lowvol   last6vol         category         timel  \n",
       "code                                                                      \n",
       "600918  2022-10-31  18277677.0  9492885.0  新三板精选层 ;新股与次新股   1.673752e+09  \n",
       "003003  2022-10-25   8318933.0  4595854.0  快递 ;新股与次新股 ;核准制  1.673752e+09  \n",
       "605199  2022-10-25   2734338.0  2214900.0  中医药 ;流感 ;海南自贸区   1.673752e+09  \n",
       "\n",
       "[3 rows x 105 columns]"
      ]
     },
     "execution_count": 10,
     "metadata": {},
     "output_type": "execute_result"
    }
   ],
   "source": [
    "df2=readHdf5(tdx_path,'low_d_60_y_all')\n",
    "df2[-3:]"
   ]
  },
  {
   "cell_type": "code",
   "execution_count": null,
   "id": "ca4b8d2f-e5dc-4d4e-8b61-ef87cd4b71a1",
   "metadata": {},
   "outputs": [],
   "source": []
  }
 ],
 "metadata": {
  "kernelspec": {
   "display_name": "pytorch_gpu",
   "language": "python",
   "name": "pytorch_gpu"
  },
  "language_info": {
   "codemirror_mode": {
    "name": "ipython",
    "version": 3
   },
   "file_extension": ".py",
   "mimetype": "text/x-python",
   "name": "python",
   "nbconvert_exporter": "python",
   "pygments_lexer": "ipython3",
   "version": "3.7.7"
  }
 },
 "nbformat": 4,
 "nbformat_minor": 5
}
