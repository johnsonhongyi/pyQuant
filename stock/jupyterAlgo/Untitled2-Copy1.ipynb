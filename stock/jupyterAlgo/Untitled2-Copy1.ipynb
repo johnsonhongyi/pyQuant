{
 "cells": [
  {
   "cell_type": "markdown",
   "metadata": {
    "toc": "true"
   },
   "source": [
    "# Table of Contents\n",
    " <p><div class=\"lev1 toc-item\"><a href=\"#https://www.quantinsti.com/blog/build-technical-indicators-in-python/\" data-toc-modified-id=\"https://www.quantinsti.com/blog/build-technical-indicators-in-python/-1\"><span class=\"toc-item-num\">1&nbsp;&nbsp;</span><a href=\"https://www.quantinsti.com/blog/build-technical-indicators-in-python/\" target=\"_blank\">https://www.quantinsti.com/blog/build-technical-indicators-in-python/</a></a></div>"
   ]
  },
  {
   "cell_type": "markdown",
   "metadata": {},
   "source": [
    "# https://www.quantinsti.com/blog/build-technical-indicators-in-python/"
   ]
  },
  {
   "cell_type": "code",
   "execution_count": 1,
   "metadata": {
    "ExecuteTime": {
     "end_time": "2020-01-13T17:09:33.584703+08:00",
     "start_time": "2020-01-13T17:09:31.094144Z"
    }
   },
   "outputs": [],
   "source": [
    "%matplotlib inline\n",
    "import sys\n",
    "sys.path.append('../')\n",
    "import JSONData.tdx_data_Day as tdd\n",
    "# data = tdd.get_tdx_Exp_day_to_df('999999',dl=200).sort_index(ascending=True)\n",
    "data = tdd.get_tdx_append_now_df_api('999999',dl=30).sort_index(ascending=False)\n",
    "data[:2]"
   ]
  },
  {
   "cell_type": "code",
   "execution_count": 2,
   "metadata": {
    "ExecuteTime": {
     "end_time": "2020-01-13T17:09:33.598026+08:00",
     "start_time": "2020-01-13T17:09:33.588831Z"
    }
   },
   "outputs": [],
   "source": [
    "data.sort_index(ascending=True,inplace=True)\n",
    "data.rename(columns={'close': 'Close','high': 'High','low': 'Low','open': 'Open'}, inplace=True)\n",
    "# data = data.iloc[:,1:5]\n",
    "# data[:2]"
   ]
  },
  {
   "cell_type": "code",
   "execution_count": 3,
   "metadata": {
    "ExecuteTime": {
     "end_time": "2020-01-13T17:09:34.034200+08:00",
     "start_time": "2020-01-13T17:09:33.602206Z"
    }
   },
   "outputs": [
    {
     "data": {
      "text/plain": [
       "[None, None, None, None, None, None, None]"
      ]
     },
     "execution_count": 3,
     "metadata": {},
     "output_type": "execute_result"
    },
    {
     "data": {
      "image/png": "[encoded data removed]",
      "text/plain": [
       "<matplotlib.figure.Figure at 0x10f963990>"
      ]
     },
     "metadata": {},
     "output_type": "display_data"
    }
   ],
   "source": [
    "# Commodity Channel Index Python Code\n",
    "\n",
    "# Load the necessary packages and modules\n",
    "# from pandas_datareader import data as pdr\n",
    "import matplotlib.pyplot as plt\n",
    "# import fix_yahoo_finance\n",
    "import pandas as pd\n",
    "\n",
    "data.rename\n",
    "# Commodity Channel Index \n",
    "def CCI(data, ndays): \n",
    " TP = (data['High'] + data['Low'] + data['Close']) / 3 \n",
    " CCI = pd.Series((TP - pd.rolling_mean(TP, ndays)) / (0.015 * pd.rolling_std(TP, ndays)),\n",
    " name = 'CCI') \n",
    " data = data.join(CCI) \n",
    " return data\n",
    "\n",
    "# Retrieve the Nifty data from Yahoo finance:\n",
    "# data = pdr.get_data_yahoo(\"^NSEI\", start=\"2014-01-01\", end=\"2016-01-01\") \n",
    "# data = pd.DataFrame(data)\n",
    "\n",
    "# Compute the Commodity Channel Index(CCI) for NIFTY based on the 20-day Moving average\n",
    "n = 20\n",
    "NIFTY_CCI = CCI(data, n)\n",
    "CCI = NIFTY_CCI['CCI']\n",
    "\n",
    "# Plotting the Price Series chart and the Commodity Channel index below\n",
    "fig = plt.figure(figsize=(7,5))\n",
    "ax = fig.add_subplot(2, 1, 1)\n",
    "ax.set_xticklabels([])\n",
    "plt.plot(data['Close'],lw=1)\n",
    "plt.title('NSE Price Chart')\n",
    "plt.ylabel('Close Price')\n",
    "plt.grid(True)\n",
    "bx = fig.add_subplot(2, 1, 2)\n",
    "plt.plot(CCI,'k',lw=0.75,linestyle='-',label='CCI')\n",
    "plt.legend(loc=2,prop={'size':9.5})\n",
    "plt.ylabel('CCI values')\n",
    "plt.grid(True)\n",
    "plt.setp(plt.gca().get_xticklabels(), rotation=30)"
   ]
  },
  {
   "cell_type": "code",
   "execution_count": null,
   "metadata": {},
   "outputs": [],
   "source": []
  }
 ],
 "metadata": {
  "kernelspec": {
   "display_name": "Python 2",
   "language": "python",
   "name": "python2"
  },
  "language_info": {
   "codemirror_mode": {
    "name": "ipython",
    "version": 2
   },
   "file_extension": ".py",
   "mimetype": "text/x-python",
   "name": "python",
   "nbconvert_exporter": "python",
   "pygments_lexer": "ipython2",
   "version": "2.7.11"
  },
  "toc": {
   "colors": {
    "hover_highlight": "#DAA520",
    "navigate_num": "#000000",
    "navigate_text": "#333333",
    "running_highlight": "#FF0000",
    "selected_highlight": "#FFD700",
    "sidebar_border": "#EEEEEE",
    "wrapper_background": "#FFFFFF"
   },
   "moveMenuLeft": true,
   "nav_menu": {
    "height": "12px",
    "width": "252px"
   },
   "navigate_menu": true,
   "number_sections": true,
   "sideBar": false,
   "threshold": 4,
   "toc_cell": true,
   "toc_position": {
    "height": "273px",
    "left": "1197.28125px",
    "right": "20px",
    "top": "120px",
    "width": "195px"
   },
   "toc_section_display": "block",
   "toc_window_display": true,
   "widenNotebook": false
  }
 },
 "nbformat": 4,
 "nbformat_minor": 2
}
